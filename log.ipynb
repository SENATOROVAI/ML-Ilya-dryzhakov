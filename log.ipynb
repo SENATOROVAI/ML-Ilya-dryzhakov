{
 "cells": [
  {
   "cell_type": "code",
   "execution_count": null,
   "metadata": {
    "vscode": {
     "languageId": "plaintext"
    }
   },
   "outputs": [],
   "source": [
    "\"\"\"Логирование уроков.\"\"\"\n"
   ]
  },
  {
   "cell_type": "code",
   "execution_count": null,
   "metadata": {
    "vscode": {
     "languageId": "plaintext"
    }
   },
   "outputs": [],
   "source": [
    "1.08.2024\n",
    "\n",
    "1. Настроили kaggle  и прокси (теперь я в Америке)\n",
    "2. Разобрались в условных обозначениях и кванторах\n"
   ]
  },
  {
   "cell_type": "markdown",
   "metadata": {},
   "source": [
    "\n",
    "25.07\n",
    "\n",
    "1. Познакомились и определили уровень знаний.\n",
    "2. Поговорили про Круги Элейра и множества чисел (https://jamboard.google.com/d/1zRngwxMSfXv1BH8YmrHGJYHRdXFji1HS8oMFe2mJJdY/edit?usp=sharing)\n",
    "\n"
   ]
  }
 ],
 "metadata": {
  "language_info": {
   "name": "python"
  }
 },
 "nbformat": 4,
 "nbformat_minor": 2
}
