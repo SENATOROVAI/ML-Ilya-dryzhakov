{
 "cells": [
  {
   "cell_type": "code",
   "execution_count": 1,
   "metadata": {},
   "outputs": [
    {
     "data": {
      "text/plain": [
       "'Логирование уроков.'"
      ]
     },
     "execution_count": 1,
     "metadata": {},
     "output_type": "execute_result"
    }
   ],
   "source": [
    "\"\"\"Логирование уроков.\"\"\"\n"
   ]
  },
  {
   "cell_type": "markdown",
   "metadata": {
    "vscode": {
     "languageId": "plaintext"
    }
   },
   "source": [
    "1.08.2024\n",
    "\n",
    "1. Настроили kaggle  и прокси (теперь я в Америке)\n",
    "2. Разобрались в условных обозначениях и кванторах\n"
   ]
  },
  {
   "cell_type": "markdown",
   "metadata": {},
   "source": [
    "\n",
    "25.07\n",
    "\n",
    "1. Познакомились и определили уровень знаний.\n",
    "2. Поговорили про Круги Элейра и множества чисел (https://jamboard.google.com/d/1zRngwxMSfXv1BH8YmrHGJYHRdXFji1HS8oMFe2mJJdY/edit?usp=sharing)\n",
    "\n"
   ]
  }
 ],
 "metadata": {
  "kernelspec": {
   "display_name": "base",
   "language": "python",
   "name": "python3"
  },
  "language_info": {
   "codemirror_mode": {
    "name": "ipython",
    "version": 3
   },
   "file_extension": ".py",
   "mimetype": "text/x-python",
   "name": "python",
   "nbconvert_exporter": "python",
   "pygments_lexer": "ipython3",
   "version": "3.10.9"
  }
 },
 "nbformat": 4,
 "nbformat_minor": 2
}
